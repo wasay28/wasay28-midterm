{
 "cells": [
  {
   "cell_type": "markdown",
   "metadata": {},
   "source": [
    "# Libraries"
   ]
  },
  {
   "cell_type": "code",
   "execution_count": 2,
   "metadata": {},
   "outputs": [],
   "source": [
    "import pickle\n",
    "import pandas as pd\n",
    "import seaborn as sns\n",
    "from os.path import exists\n",
    "import matplotlib.pyplot as plt\n",
    "from sklearn.neighbors import KNeighborsClassifier\n",
    "from sklearn.model_selection import train_test_split\n",
    "from sklearn.metrics import accuracy_score, confusion_matrix\n",
    "from sklearn.preprocessing import StandardScaler\n",
    "import numpy as np"
   ]
  },
  {
   "cell_type": "markdown",
   "metadata": {},
   "source": [
    "# Loading the Files\n",
    "\n",
    "Download the csv files into the `data/` directory."
   ]
  },
  {
   "cell_type": "code",
   "execution_count": 3,
   "metadata": {},
   "outputs": [
    {
     "name": "stdout",
     "output_type": "stream",
     "text": [
      "train.csv shape is  (1697533, 9)\n",
      "test.csv shape is  (212192, 2)\n",
      "\n",
      "        Id   ProductId          UserId  HelpfulnessNumerator  \\\n",
      "0   914403  B0009W5KHM   AV6QDP8Q0ONK4                     2   \n",
      "1   354887  6303079709  A2I8RXJN80A2D2                     0   \n",
      "2  1407653  B004H0M2XC  A3FHV3RV8Z12E6                     0   \n",
      "3  1377458  B003ZJ9536  A12VLTA3ZHVPUY                     1   \n",
      "4   475323  630574453X  A13NM1PES9OXVN                     2   \n",
      "\n",
      "   HelpfulnessDenominator        Time  \\\n",
      "0                       2  1341014400   \n",
      "1                       0  1168819200   \n",
      "2                       0  1386201600   \n",
      "3                       1  1348704000   \n",
      "4                       3   970012800   \n",
      "\n",
      "                                         Summary  \\\n",
      "0                                  GOOD FUN FILM   \n",
      "1                                   Movie Review   \n",
      "2             When is it a good time to Consent?   \n",
      "3                                          TRUTH   \n",
      "4  Intelligent and bittersweet -- stays with you   \n",
      "\n",
      "                                                Text  Score  \n",
      "0  While most straight to DVD films are not worth...    5.0  \n",
      "1  I have wanted this one for sometime, also.  I ...    5.0  \n",
      "2  Actually this was a pretty darn good indie fil...    4.0  \n",
      "3  Episodes 37 to 72 of the series press on in a ...    5.0  \n",
      "4  I was really impressed with this movie, but wa...    3.0  \n",
      "\n",
      "        Id  Score\n",
      "0  1323432    NaN\n",
      "1  1137299    NaN\n",
      "2  1459366    NaN\n",
      "3   931601    NaN\n",
      "4  1311995    NaN\n",
      "\n",
      "                 Id  HelpfulnessNumerator  HelpfulnessDenominator  \\\n",
      "count  1.697533e+06          1.697533e+06            1.697533e+06   \n",
      "mean   8.487660e+05          3.569048e+00            5.301422e+00   \n",
      "std    4.900357e+05          1.727883e+01            2.024445e+01   \n",
      "min    0.000000e+00          0.000000e+00            0.000000e+00   \n",
      "25%    4.243830e+05          0.000000e+00            0.000000e+00   \n",
      "50%    8.487660e+05          1.000000e+00            1.000000e+00   \n",
      "75%    1.273149e+06          3.000000e+00            5.000000e+00   \n",
      "max    1.697532e+06          6.084000e+03            6.510000e+03   \n",
      "\n",
      "               Time         Score  \n",
      "count  1.697533e+06  1.485341e+06  \n",
      "mean   1.262422e+09  4.110517e+00  \n",
      "std    1.289277e+08  1.197651e+00  \n",
      "min    8.793792e+08  1.000000e+00  \n",
      "25%    1.164413e+09  4.000000e+00  \n",
      "50%    1.307491e+09  5.000000e+00  \n",
      "75%    1.373242e+09  5.000000e+00  \n",
      "max    1.406074e+09  5.000000e+00  \n"
     ]
    },
    {
     "data": {
      "image/png": "[encoded data removed]",
      "text/plain": [
       "<Figure size 432x288 with 1 Axes>"
      ]
     },
     "metadata": {
      "needs_background": "light"
     },
     "output_type": "display_data"
    },
    {
     "name": "stdout",
     "output_type": "stream",
     "text": [
      "\n",
      "EVERYTHING IS PROPERLY SET UP! YOU ARE READY TO START\n"
     ]
    }
   ],
   "source": [
    "trainingSet = pd.read_csv(\"./data/train.csv\")\n",
    "testingSet = pd.read_csv(\"./data/test.csv\")\n",
    "\n",
    "print(\"train.csv shape is \", trainingSet.shape)\n",
    "print(\"test.csv shape is \", testingSet.shape)\n",
    "\n",
    "print()\n",
    "\n",
    "print(trainingSet.head())\n",
    "print()\n",
    "print(testingSet.head())\n",
    "\n",
    "print()\n",
    "\n",
    "print(trainingSet.describe())\n",
    "\n",
    "trainingSet['Score'].value_counts().plot(kind='bar', legend=True, alpha=.5)\n",
    "plt.show()\n",
    "\n",
    "print()\n",
    "print(\"EVERYTHING IS PROPERLY SET UP! YOU ARE READY TO START\")"
   ]
  },
  {
   "cell_type": "markdown",
   "metadata": {},
   "source": [
    "# Adding Features"
   ]
  },
  {
   "cell_type": "code",
   "execution_count": 4,
   "metadata": {},
   "outputs": [],
   "source": [
    "def add_features_to(df):\n",
    "    # This is where you can do all your feature extraction\n",
    "\n",
    "    df['Helpfulness'] = df['HelpfulnessNumerator'] / df['HelpfulnessDenominator']\n",
    "    df['Helpfulness'] = df['Helpfulness'].fillna(0)\n",
    "\n",
    "    # Adding text length features\n",
    "\n",
    "    df['text_length'] = df['Text'].fillna('').str.len()\n",
    "    df['summary_length'] = df['Summary'].fillna('').str.len()\n",
    "    df['word_count'] = df['Text'].fillna('').str.split().str.len()\n",
    "    df['avg_word_length'] = df['text_length'] / df['word_count']\n",
    "\n",
    "    # Count punctuation\n",
    "    \n",
    "    df['exclamation_count'] = df['Text'].fillna('').str.count('!')\n",
    "    df['question_count'] = df['Text'].fillna('').str.count('\\?')\n",
    "    df['caps_count'] = df['Text'].fillna('').apply(lambda x: sum(1 for c in str(x) if c.isupper()))\n",
    "\n",
    "    # Adding user behavior features\n",
    "\n",
    "    user_review_counts = df.groupby('UserId').size().reset_index(name='user_review_count')\n",
    "    df = df.merge(user_review_counts, on='UserId', how='left')\n",
    "    \n",
    "    user_helpfulness = df.groupby('UserId')['Helpfulness'].agg(['mean', 'std']).reset_index()\n",
    "    user_helpfulness.columns = ['UserId', 'user_avg_helpfulness', 'user_helpfulness_std']\n",
    "    df = df.merge(user_helpfulness, on='UserId', how='left')\n",
    "    \n",
    "    # Adding product popularity features\n",
    "\n",
    "    product_review_counts = df.groupby('ProductId').size().reset_index(name='product_review_count')\n",
    "    df = df.merge(product_review_counts, on='ProductId', how='left')\n",
    "    \n",
    "    # Adding time-based features\n",
    "\n",
    "    df['review_year'] = pd.to_datetime(df['Time'], unit='s').dt.year\n",
    "    df['review_month'] = pd.to_datetime(df['Time'], unit='s').dt.month\n",
    "    df['review_day_of_week'] = pd.to_datetime(df['Time'], unit='s').dt.dayofweek\n",
    "\n",
    "   # Enhanced sentiment analysis\n",
    "    positive_words = [\n",
    "        'great', 'good', 'excellent', 'amazing', 'wonderful', 'best', 'love', 'perfect',\n",
    "        'awesome', 'fantastic', 'superb', 'outstanding', 'brilliant', 'superb', 'delightful',\n",
    "        'masterpiece', 'incredible', 'magnificent', 'favorite', 'recommend', 'enjoyed',\n",
    "        'masterful', 'beautiful', 'powerful', 'engaging', 'impressive'\n",
    "    ]\n",
    "    \n",
    "    negative_words = [\n",
    "        'bad', 'poor', 'terrible', 'awful', 'worst', 'hate', 'disappointing',\n",
    "        'waste', 'boring', 'stupid', 'horrible', 'mediocre', 'rubbish', 'disaster',\n",
    "        'pathetic', 'dreadful', 'avoid', 'mess', 'failure', 'unwatchable', 'dull',\n",
    "        'tedious', 'weak', 'annoying', 'frustrating', 'nonsense'\n",
    "    ]\n",
    "    \n",
    "    # Handle negations\n",
    "    negation_words = ['not', \"n't\", 'never', 'no', 'none', 'nobody', 'nothing', 'neither', 'nowhere']\n",
    "\n",
    "    def enhanced_sentiment_score(text):\n",
    "        if not isinstance(text, str):\n",
    "            return 0\n",
    "            \n",
    "        text = text.lower()\n",
    "        words = text.split()\n",
    "        score = 0\n",
    "        negation = False\n",
    "        sentiment_window = []  # Track recent sentiment words\n",
    "        \n",
    "        for i, word in enumerate(words):\n",
    "            # Check for negation\n",
    "            if word in negation_words:\n",
    "                negation = True\n",
    "                continue\n",
    "                \n",
    "            # Reset negation after punctuation or after 3 words\n",
    "            if any(p in word for p in '.!?') or i > 0 and i % 3 == 0:\n",
    "                negation = False\n",
    "            \n",
    "            # Calculate sentiment with weighted scoring\n",
    "            if word in positive_words:\n",
    "                word_score = -1 if negation else 1\n",
    "                if len(sentiment_window) >= 2:  # Stronger sentiment if multiple positive words\n",
    "                    word_score *= 1.5\n",
    "                score += word_score\n",
    "                sentiment_window.append(1)\n",
    "            elif word in negative_words:\n",
    "                word_score = 1 if negation else -1\n",
    "                if len(sentiment_window) >= 2:  # Stronger sentiment if multiple negative words\n",
    "                    word_score *= 1.5\n",
    "                score += word_score\n",
    "                sentiment_window.append(-1)\n",
    "            else:\n",
    "                sentiment_window.append(0)\n",
    "            \n",
    "            # Keep sentiment window to last 3 words\n",
    "            if len(sentiment_window) > 3:\n",
    "                sentiment_window.pop(0)\n",
    "                \n",
    "        return score\n",
    "    \n",
    "    df['enhanced_sentiment_score'] = df['Text'].apply(enhanced_sentiment_score)\n",
    "    df['summary_sentiment_score'] = df['Summary'].apply(enhanced_sentiment_score)\n",
    "    df['total_sentiment'] = df['enhanced_sentiment_score'] + df['summary_sentiment_score']\n",
    "    \n",
    "    # Fill NaN values - handle numeric columns specifically\n",
    "    numeric_cols = df.select_dtypes(include=['float64', 'int64']).columns\n",
    "    df[numeric_cols] = df[numeric_cols].fillna(df[numeric_cols].mean())\n",
    "\n",
    "    return df\n",
    "\n",
    "# Load the feature extracted files if they've already been generated\n",
    "if exists('./data/X_train.csv'):\n",
    "    X_train = pd.read_csv(\"./data/X_train.csv\")\n",
    "    X_train = add_features_to(X_train)\n",
    "if exists('./data/X_submission.csv'):\n",
    "    X_submission = pd.read_csv(\"./data/X_submission.csv\")\n",
    "    X_submission = add_features_to(X_submission)\n",
    "\n",
    "else:\n",
    "    # Process the DataFrame\n",
    "    train = add_features_to(trainingSet)\n",
    "\n",
    "    # Merge on Id so that the submission set can have feature columns as well\n",
    "    X_submission = pd.merge(train, testingSet, left_on='Id', right_on='Id')\n",
    "    X_submission = X_submission.drop(columns=['Score_x'])\n",
    "    X_submission = X_submission.rename(columns={'Score_y': 'Score'})\n",
    "\n",
    "    # The training set is where the score is not null\n",
    "    X_train =  train[train['Score'].notnull()]\n",
    "\n",
    "    X_submission.to_csv(\"./data/X_submission.csv\", index=False)\n",
    "    X_train.to_csv(\"./data/X_train.csv\", index=False)"
   ]
  },
  {
   "cell_type": "markdown",
   "metadata": {},
   "source": [
    "# Sample + Split into training and testing set"
   ]
  },
  {
   "cell_type": "code",
   "execution_count": 5,
   "metadata": {},
   "outputs": [],
   "source": [
    "# Split training set into training and testing set\n",
    "X_train, X_test, Y_train, Y_test = train_test_split(\n",
    "    X_train.drop(columns=['Score']),\n",
    "    X_train['Score'].astype(int),\n",
    "    test_size=1/4.0,\n",
    "    random_state=0\n",
    ")"
   ]
  },
  {
   "cell_type": "markdown",
   "metadata": {},
   "source": [
    "# Feature Selection"
   ]
  },
  {
   "cell_type": "code",
   "execution_count": 6,
   "metadata": {},
   "outputs": [],
   "source": [
    "features = ['HelpfulnessNumerator',\n",
    "            'HelpfulnessDenominator',\n",
    "            'Time',\n",
    "            'Helpfulness',\n",
    "            'text_length',\n",
    "            'summary_length',\n",
    "            'word_count',\n",
    "            'avg_word_length',\n",
    "            'exclamation_count',\n",
    "            'question_count',\n",
    "            'caps_count',\n",
    "            'user_review_count',\n",
    "            'user_avg_helpfulness',\n",
    "            'user_helpfulness_std',\n",
    "            'product_review_count',\n",
    "            'review_year',\n",
    "            'review_month',\n",
    "            'review_day_of_week',\n",
    "            'enhanced_sentiment_score',\n",
    "            'summary_sentiment_score',\n",
    "            'total_sentiment'\n",
    "            ]\n",
    "\n",
    "scaler = StandardScaler()\n",
    "\n",
    "X_train_select = scaler.fit_transform(X_train[features])\n",
    "X_test_select = scaler.transform(X_test[features])\n",
    "X_submission_select = scaler.transform(X_submission[features])"
   ]
  },
  {
   "cell_type": "markdown",
   "metadata": {},
   "source": [
    "# Model Creation"
   ]
  },
  {
   "cell_type": "code",
   "execution_count": 14,
   "metadata": {},
   "outputs": [],
   "source": [
    "sample_size = 10000  # Using 10k samples instead of 1.2M\n",
    "np.random.seed(42)  # For reproducibility\n",
    "indices = np.random.choice(X_train_select.shape[0], sample_size, replace=False)\n",
    "X_train_sampled = X_train_select[indices]\n",
    "Y_train_sampled = Y_train.iloc[indices]\n",
    "\n",
    "# Learn the model\n",
    "model = KNeighborsClassifier(n_neighbors=15, weights='distance', algorithm='ball_tree', leaf_size=50, n_jobs=1).fit(X_train_sampled, Y_train_sampled)\n",
    "\n",
    "# Predict the score using the model\n",
    "Y_test_predictions = model.predict(X_test_select)"
   ]
  },
  {
   "cell_type": "markdown",
   "metadata": {},
   "source": [
    "# Model Evaluation"
   ]
  },
  {
   "cell_type": "code",
   "execution_count": 15,
   "metadata": {},
   "outputs": [
    {
     "name": "stdout",
     "output_type": "stream",
     "text": [
      "Accuracy on testing set =  0.4669638817674559\n"
     ]
    },
    {
     "data": {
      "image/png": "[encoded data removed]",
      "text/plain": [
       "<Figure size 432x288 with 2 Axes>"
      ]
     },
     "metadata": {
      "needs_background": "light"
     },
     "output_type": "display_data"
    }
   ],
   "source": [
    "# Evaluate your model on the testing set\n",
    "print(\"Accuracy on testing set = \", accuracy_score(Y_test, Y_test_predictions))\n",
    "\n",
    "# Plot a confusion matrix\n",
    "cm = confusion_matrix(Y_test, Y_test_predictions, normalize='true')\n",
    "sns.heatmap(cm, annot=True)\n",
    "plt.title('Confusion matrix of the classifier')\n",
    "plt.xlabel('Predicted')\n",
    "plt.ylabel('True')\n",
    "plt.show()"
   ]
  },
  {
   "cell_type": "markdown",
   "metadata": {},
   "source": [
    "# Create submission file"
   ]
  },
  {
   "cell_type": "code",
   "execution_count": 8,
   "metadata": {},
   "outputs": [],
   "source": [
    "# First check and handle any NaN values in scaled features\n",
    "# X_submission_select = np.nan_to_num(X_submission_select, 0)  # Replace NaN with 0\n",
    "\n",
    "# Create the submission file\n",
    "X_submission['Score'] = model.predict(X_submission_select)\n",
    "submission = X_submission[['Id', 'Score']]\n",
    "submission.to_csv(\"./data/submission.csv\", index=False)"
   ]
  }
 ],
 "metadata": {
  "kernelspec": {
   "display_name": "base",
   "language": "python",
   "name": "python3"
  },
  "language_info": {
   "codemirror_mode": {
    "name": "ipython",
    "version": 3
   },
   "file_extension": ".py",
   "mimetype": "text/x-python",
   "name": "python",
   "nbconvert_exporter": "python",
   "pygments_lexer": "ipython3",
   "version": "3.8.8"
  }
 },
 "nbformat": 4,
 "nbformat_minor": 2
}
